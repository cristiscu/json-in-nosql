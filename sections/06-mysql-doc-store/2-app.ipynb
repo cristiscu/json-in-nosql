{
 "cells": [
  {
   "cell_type": "code",
   "execution_count": null,
   "metadata": {},
   "outputs": [],
   "source": [
    "import mysqlx, os\n",
    "\n",
    "session = mysqlx.get_session({\n",
    "    'host': 'localhost',\n",
    "    'port': 33080,              # if Classic is using port 3308\n",
    "    'user': 'root',\n",
    "    'password': os.environ('MYSQL_PWD')\n",
    "})"
   ]
  },
  {
   "cell_type": "code",
   "execution_count": null,
   "metadata": {},
   "outputs": [],
   "source": [
    "# create schema+collection before, w/ mysqlsh\n",
    "db = session.get_schema('store')\n",
    "coll = db.get_collection('books')\n",
    "coll.count()"
   ]
  },
  {
   "cell_type": "code",
   "execution_count": null,
   "metadata": {},
   "outputs": [],
   "source": [
    "import json\n",
    "\n",
    "with open('../../data/store.json') as f:\n",
    "    books = json.load(f)['store']['book']\n",
    "    print(json.dumps(books, indent=4))"
   ]
  },
  {
   "cell_type": "code",
   "execution_count": null,
   "metadata": {},
   "outputs": [],
   "source": [
    "for book in books:\n",
    "    print(book)\n",
    "    coll.add(book).execute()"
   ]
  },
  {
   "cell_type": "code",
   "execution_count": null,
   "metadata": {},
   "outputs": [],
   "source": [
    "docs = coll.find().execute()\n",
    "doc = docs.fetch_one()\n",
    "while doc:\n",
    "    print(doc)\n",
    "    doc = docs.fetch_one()"
   ]
  },
  {
   "cell_type": "code",
   "execution_count": null,
   "metadata": {},
   "outputs": [],
   "source": [
    "docs = (coll\n",
    "    .find('title like :param')\n",
    "    .limit(1)\n",
    "    .bind('param', 'Sword of Honour')\n",
    "    .execute())\n",
    "doc = docs.fetch_one()\n",
    "print(doc)"
   ]
  },
  {
   "cell_type": "code",
   "execution_count": null,
   "metadata": {},
   "outputs": [],
   "source": [
    "coll.remove(True).execute()\n",
    "coll.count()"
   ]
  },
  {
   "cell_type": "code",
   "execution_count": null,
   "metadata": {},
   "outputs": [],
   "source": [
    "session.close()"
   ]
  }
 ],
 "metadata": {
  "kernelspec": {
   "display_name": "venv",
   "language": "python",
   "name": "python3"
  },
  "language_info": {
   "codemirror_mode": {
    "name": "ipython",
    "version": 3
   },
   "file_extension": ".py",
   "mimetype": "text/x-python",
   "name": "python",
   "nbconvert_exporter": "python",
   "pygments_lexer": "ipython3",
   "version": "3.9.6"
  }
 },
 "nbformat": 4,
 "nbformat_minor": 2
}
