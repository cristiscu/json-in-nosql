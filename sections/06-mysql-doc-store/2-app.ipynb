{
 "cells": [
  {
   "cell_type": "code",
   "execution_count": 1,
   "metadata": {},
   "outputs": [],
   "source": [
    "import mysqlx, os\n",
    "\n",
    "session = mysqlx.get_session({\n",
    "    'host': 'localhost',\n",
    "    'port': 33080,              # if Classic is using port 3308\n",
    "    'user': 'root',\n",
    "    'password': os.environ.get('MYSQL_PWD')\n",
    "})"
   ]
  },
  {
   "cell_type": "code",
   "execution_count": 2,
   "metadata": {},
   "outputs": [
    {
     "data": {
      "text/plain": [
       "0"
      ]
     },
     "execution_count": 2,
     "metadata": {},
     "output_type": "execute_result"
    }
   ],
   "source": [
    "# create schema+collection before, w/ mysqlsh\n",
    "db = session.get_schema('store')\n",
    "coll = db.get_collection('books')\n",
    "coll.count()"
   ]
  },
  {
   "cell_type": "code",
   "execution_count": 3,
   "metadata": {},
   "outputs": [
    {
     "name": "stdout",
     "output_type": "stream",
     "text": [
      "[\n",
      "    {\n",
      "        \"category\": \"reference\",\n",
      "        \"author\": \"Nigel Rees\",\n",
      "        \"title\": \"Sayings of the Century\",\n",
      "        \"price\": 8.95,\n",
      "        \"editions\": [\n",
      "            1993,\n",
      "            1995,\n",
      "            1998\n",
      "        ]\n",
      "    },\n",
      "    {\n",
      "        \"category\": \"fiction\",\n",
      "        \"author\": \"Evelyn Waugh\",\n",
      "        \"title\": \"Sword of Honour\",\n",
      "        \"price\": 12.99,\n",
      "        \"editions\": [\n",
      "            1996,\n",
      "            1998\n",
      "        ]\n",
      "    },\n",
      "    {\n",
      "        \"category\": \"fiction\",\n",
      "        \"author\": \"Herman Melville\",\n",
      "        \"title\": \"Moby Dick\",\n",
      "        \"isbn\": \"0-553-21311-3\",\n",
      "        \"price\": 8.99,\n",
      "        \"editions\": [\n",
      "            1991,\n",
      "            1996,\n",
      "            1998\n",
      "        ]\n",
      "    },\n",
      "    {\n",
      "        \"category\": \"fiction\",\n",
      "        \"author\": \"J. R. R. Tolkien\",\n",
      "        \"title\": \"The Lord of the Rings\",\n",
      "        \"isbn\": \"0-395-19395-8\",\n",
      "        \"price\": 22.99\n",
      "    },\n",
      "    {\n",
      "        \"category\": \"software\",\n",
      "        \"authors\": [\n",
      "            {\n",
      "                \"author\": \"Thomas Linn\"\n",
      "            },\n",
      "            {\n",
      "                \"author\": \"Jane Mathews\"\n",
      "            }\n",
      "        ],\n",
      "        \"title\": \"Snowflake for Beginners\",\n",
      "        \"price\": 12.49,\n",
      "        \"editions\": [\n",
      "            1996\n",
      "        ]\n",
      "    }\n",
      "]\n"
     ]
    }
   ],
   "source": [
    "import json\n",
    "\n",
    "with open('../../data/store.json') as f:\n",
    "    books = json.load(f)['store']['book']\n",
    "    print(json.dumps(books, indent=4))"
   ]
  },
  {
   "cell_type": "code",
   "execution_count": 4,
   "metadata": {},
   "outputs": [
    {
     "name": "stdout",
     "output_type": "stream",
     "text": [
      "{'category': 'reference', 'author': 'Nigel Rees', 'title': 'Sayings of the Century', 'price': 8.95, 'editions': [1993, 1995, 1998]}\n",
      "{'category': 'fiction', 'author': 'Evelyn Waugh', 'title': 'Sword of Honour', 'price': 12.99, 'editions': [1996, 1998]}\n",
      "{'category': 'fiction', 'author': 'Herman Melville', 'title': 'Moby Dick', 'isbn': '0-553-21311-3', 'price': 8.99, 'editions': [1991, 1996, 1998]}\n",
      "{'category': 'fiction', 'author': 'J. R. R. Tolkien', 'title': 'The Lord of the Rings', 'isbn': '0-395-19395-8', 'price': 22.99}\n",
      "{'category': 'software', 'authors': [{'author': 'Thomas Linn'}, {'author': 'Jane Mathews'}], 'title': 'Snowflake for Beginners', 'price': 12.49, 'editions': [1996]}\n"
     ]
    }
   ],
   "source": [
    "for book in books:\n",
    "    print(book)\n",
    "    coll.add(book).execute()"
   ]
  },
  {
   "cell_type": "code",
   "execution_count": 5,
   "metadata": {},
   "outputs": [
    {
     "name": "stdout",
     "output_type": "stream",
     "text": [
      "{\"_id\": \"000067dabd840000000000000006\", \"price\": 8.95, \"title\": \"Sayings of the Century\", \"author\": \"Nigel Rees\", \"category\": \"reference\", \"editions\": [1993, 1995, 1998]}\n",
      "{\"_id\": \"000067dabd840000000000000007\", \"price\": 12.99, \"title\": \"Sword of Honour\", \"author\": \"Evelyn Waugh\", \"category\": \"fiction\", \"editions\": [1996, 1998]}\n",
      "{\"_id\": \"000067dabd840000000000000008\", \"isbn\": \"0-553-21311-3\", \"price\": 8.99, \"title\": \"Moby Dick\", \"author\": \"Herman Melville\", \"category\": \"fiction\", \"editions\": [1991, 1996, 1998]}\n",
      "{\"_id\": \"000067dabd840000000000000009\", \"isbn\": \"0-395-19395-8\", \"price\": 22.99, \"title\": \"The Lord of the Rings\", \"author\": \"J. R. R. Tolkien\", \"category\": \"fiction\"}\n",
      "{\"_id\": \"000067dabd84000000000000000a\", \"price\": 12.49, \"title\": \"Snowflake for Beginners\", \"authors\": [{\"author\": \"Thomas Linn\"}, {\"author\": \"Jane Mathews\"}], \"category\": \"software\", \"editions\": [1996]}\n"
     ]
    }
   ],
   "source": [
    "docs = coll.find().execute()\n",
    "doc = docs.fetch_one()\n",
    "while doc:\n",
    "    print(doc)\n",
    "    doc = docs.fetch_one()"
   ]
  },
  {
   "cell_type": "code",
   "execution_count": 6,
   "metadata": {},
   "outputs": [
    {
     "name": "stdout",
     "output_type": "stream",
     "text": [
      "{\"_id\": \"000067dabd840000000000000007\", \"price\": 12.99, \"title\": \"Sword of Honour\", \"author\": \"Evelyn Waugh\", \"category\": \"fiction\", \"editions\": [1996, 1998]}\n"
     ]
    }
   ],
   "source": [
    "docs = (coll\n",
    "    .find('title like :param')\n",
    "    .limit(1)\n",
    "    .bind('param', 'Sword of Honour')\n",
    "    .execute())\n",
    "doc = docs.fetch_one()\n",
    "print(doc)"
   ]
  },
  {
   "cell_type": "code",
   "execution_count": 7,
   "metadata": {},
   "outputs": [
    {
     "data": {
      "text/plain": [
       "0"
      ]
     },
     "execution_count": 7,
     "metadata": {},
     "output_type": "execute_result"
    }
   ],
   "source": [
    "coll.remove(True).execute()\n",
    "coll.count()"
   ]
  },
  {
   "cell_type": "code",
   "execution_count": 8,
   "metadata": {},
   "outputs": [],
   "source": [
    "session.close()"
   ]
  }
 ],
 "metadata": {
  "kernelspec": {
   "display_name": "venv",
   "language": "python",
   "name": "python3"
  },
  "language_info": {
   "codemirror_mode": {
    "name": "ipython",
    "version": 3
   },
   "file_extension": ".py",
   "mimetype": "text/x-python",
   "name": "python",
   "nbconvert_exporter": "python",
   "pygments_lexer": "ipython3",
   "version": "3.9.6"
  }
 },
 "nbformat": 4,
 "nbformat_minor": 2
}
