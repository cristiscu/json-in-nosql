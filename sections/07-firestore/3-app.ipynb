{
 "cells": [
  {
   "cell_type": "code",
   "execution_count": null,
   "metadata": {},
   "outputs": [],
   "source": [
    "# after 'pip install google-cloud-firestore' in venv\n",
    "from google.cloud import firestore\n",
    "\n",
    "db = firestore.Client(project=\"data-xtractor-1221\", database=\"store\")\n",
    "coll = db.collection(\"books\")"
   ]
  },
  {
   "cell_type": "code",
   "execution_count": null,
   "metadata": {},
   "outputs": [],
   "source": [
    "books = [{\n",
    "        \"title\": \"Sayings of the Century\",\n",
    "        \"category\": \"reference\",\n",
    "        \"price\": 8.95\n",
    "    }, {\n",
    "        \"title\": \"Sword of Honour\",\n",
    "        \"category\": \"fiction\",\n",
    "        \"price\": 12.99\n",
    "    }, {\n",
    "        \"title\": \"Moby Dick\",\n",
    "        \"category\": \"fiction\",\n",
    "        \"price\": 8.99,\n",
    "        \"isbn\": \"0-553-21311-3\"\n",
    "    }]\n",
    "coll.document(\"book1\").set(books[0])\n",
    "coll.document(\"book2\").set(books[1])\n",
    "coll.document(\"book3\").set(books[2])"
   ]
  },
  {
   "cell_type": "code",
   "execution_count": null,
   "metadata": {},
   "outputs": [],
   "source": [
    "for book in coll.stream():\n",
    "    print(f\"{book.id} => {book.to_dict()}\")"
   ]
  }
 ],
 "metadata": {
  "language_info": {
   "name": "python"
  }
 },
 "nbformat": 4,
 "nbformat_minor": 2
}
