{
 "cells": [
  {
   "cell_type": "code",
   "execution_count": null,
   "metadata": {},
   "outputs": [],
   "source": [
    "# after 'pip install pymongo'\n",
    "import pymongo, os"
   ]
  },
  {
   "cell_type": "code",
   "execution_count": null,
   "metadata": {},
   "outputs": [],
   "source": [
    "pwd = os.environ['MONGODB_PWD']\n",
    "url_instance = 'cluster2.cpa7nvaflhig.us-east-1.docdb.amazonaws.com:27017'\n",
    "conn_str = f'mongodb://cristiscu:{pwd}@{url_instance}/?retryWrites=false'\n",
    "\n",
    "# this still requires an SSH Tunnel if accessed from outside the VPC!\n",
    "# see https://docs.aws.amazon.com/documentdb/latest/developerguide/connect-from-outside-a-vpc.html\n",
    "client = pymongo.MongoClient(conn_str)\n",
    "print(client.list_database_names())"
   ]
  },
  {
   "cell_type": "code",
   "execution_count": null,
   "metadata": {},
   "outputs": [],
   "source": [
    "db = client.sample_database\n",
    "col = db.sample_collection\n",
    "db, col"
   ]
  },
  {
   "cell_type": "code",
   "execution_count": null,
   "metadata": {},
   "outputs": [],
   "source": [
    "col.insert_one({'hello':'Amazon DocumentDB'})"
   ]
  },
  {
   "cell_type": "code",
   "execution_count": null,
   "metadata": {},
   "outputs": [],
   "source": [
    "col.find_one({'hello':'Amazon DocumentDB'})"
   ]
  },
  {
   "cell_type": "code",
   "execution_count": null,
   "metadata": {},
   "outputs": [],
   "source": [
    "client.close()"
   ]
  }
 ],
 "metadata": {
  "kernelspec": {
   "display_name": "venv",
   "language": "python",
   "name": "python3"
  },
  "language_info": {
   "codemirror_mode": {
    "name": "ipython",
    "version": 3
   },
   "file_extension": ".py",
   "mimetype": "text/x-python",
   "name": "python",
   "nbconvert_exporter": "python",
   "pygments_lexer": "ipython3",
   "version": "3.9.6"
  }
 },
 "nbformat": 4,
 "nbformat_minor": 2
}
