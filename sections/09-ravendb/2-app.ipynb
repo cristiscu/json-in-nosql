{
 "cells": [
  {
   "cell_type": "code",
   "execution_count": 1,
   "metadata": {},
   "outputs": [],
   "source": [
    "# after 'pip install ravendb' in venv\n",
    "from ravendb import DocumentStore\n",
    "\n",
    "store = DocumentStore('http://localhost:8080', 'test1')\n",
    "store.initialize()\n",
    "session = store.open_session()"
   ]
  },
  {
   "cell_type": "code",
   "execution_count": 3,
   "metadata": {},
   "outputs": [
    {
     "name": "stdout",
     "output_type": "stream",
     "text": [
      "{'category': 'reference', 'author': 'Nigel Rees', 'title': 'Sayings of the Century', 'price': 8.95, 'editions': [1993, 1995, 1998], '@metadata': {'@collection': None, '@change-vector': 'A:1-PD0J7EMfy0OyAUiOQ51JUg', '@id': '06c0821b-beb5-416f-8b4c-b4e67ad86b62', '@last-modified': '2025-03-23T22:32:45.9600205Z'}}\n",
      "{'category': 'fiction', 'author': 'Evelyn Waugh', 'title': 'Sword of Honour', 'price': 12.99, 'editions': [1996, 1998], '@metadata': {'@collection': None, '@change-vector': 'A:2-PD0J7EMfy0OyAUiOQ51JUg', '@id': 'ebab90bb-ab9d-43dd-b3f1-130857c7fcf6', '@last-modified': '2025-03-23T22:33:20.2353313Z'}}\n",
      "{'category': 'fiction', 'author': 'Herman Melville', 'title': 'Moby Dick', 'isbn': '0-553-21311-3', 'price': 8.99, 'editions': [1991, 1996, 1998], '@metadata': {'@collection': None, '@change-vector': 'A:3-PD0J7EMfy0OyAUiOQ51JUg', '@id': '8cf4817a-feee-4572-b19b-c9095bec5304', '@last-modified': '2025-03-23T22:33:46.4843185Z'}}\n",
      "{'category': 'fiction', 'author': 'J. R. R. Tolkien', 'title': 'The Lord of the Rings', 'isbn': '0-395-19395-8', 'price': 22.99, '@metadata': {'@collection': None, '@change-vector': 'A:4-PD0J7EMfy0OyAUiOQ51JUg', '@id': '8d75a95c-a0e7-4b10-8221-3a400f134f1e', '@last-modified': '2025-03-23T22:34:03.1847605Z'}}\n",
      "{'category': 'software', 'authors': [{'author': 'Thomas Linn'}, {'author': 'Jane Mathews'}], 'title': 'Snowflake for Beginners', 'price': 12.49, 'editions': [1996], '@metadata': {'@collection': None, '@change-vector': 'A:5-PD0J7EMfy0OyAUiOQ51JUg', '@id': '2c13cf58-83f1-48ea-80ba-eeb2f7d72d95', '@last-modified': '2025-03-23T22:34:18.9621135Z'}}\n"
     ]
    }
   ],
   "source": [
    "query = session.query_collection(\"@all_docs\")\n",
    "books =  list(query)\n",
    "for book in books:\n",
    "    print(book)"
   ]
  }
 ],
 "metadata": {
  "kernelspec": {
   "display_name": "venv",
   "language": "python",
   "name": "python3"
  },
  "language_info": {
   "codemirror_mode": {
    "name": "ipython",
    "version": 3
   },
   "file_extension": ".py",
   "mimetype": "text/x-python",
   "name": "python",
   "nbconvert_exporter": "python",
   "pygments_lexer": "ipython3",
   "version": "3.9.6"
  }
 },
 "nbformat": 4,
 "nbformat_minor": 2
}
