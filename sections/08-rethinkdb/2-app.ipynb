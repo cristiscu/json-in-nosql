{
 "cells": [
  {
   "cell_type": "markdown",
   "metadata": {},
   "source": [
    "### Execute cell by cell in VSCode (the code is in Python)\n",
    "\n",
    "This requires prior `pip install rethinkdb` in the venv."
   ]
  },
  {
   "cell_type": "code",
   "execution_count": null,
   "metadata": {},
   "outputs": [],
   "source": [
    "from rethinkdb import r\n",
    "\n",
    "conn = r.connect('localhost', 28015)\n",
    "r.db_list().run(conn)"
   ]
  },
  {
   "cell_type": "code",
   "execution_count": null,
   "metadata": {},
   "outputs": [],
   "source": [
    "r.db_create('store').run(conn)\n",
    "r.db_list().run(conn)"
   ]
  },
  {
   "cell_type": "code",
   "execution_count": null,
   "metadata": {},
   "outputs": [],
   "source": [
    "r.db('store').table_create('books').run(conn)\n",
    "r.db('store').table_list().run(conn)"
   ]
  },
  {
   "cell_type": "code",
   "execution_count": null,
   "metadata": {},
   "outputs": [],
   "source": [
    "t = r.db('store').table('books')\n",
    "t.insert([\n",
    "    {\n",
    "        \"category\": \"reference\",\n",
    "        \"author\": \"Nigel Rees\",\n",
    "        \"title\": \"Sayings of the Century\",\n",
    "        \"price\": 8.95,\n",
    "        \"editions\": [1993, 1995, 1998]\n",
    "    },\n",
    "    {\n",
    "        \"category\": \"fiction\",\n",
    "        \"author\": \"Evelyn Waugh\",\n",
    "        \"title\": \"Sword of Honour\",\n",
    "        \"price\": 12.99,\n",
    "        \"editions\": [1996, 1998]\n",
    "    },\n",
    "    {\n",
    "        \"category\": \"fiction\",\n",
    "        \"author\": \"Herman Melville\",\n",
    "        \"title\": \"Moby Dick\",\n",
    "        \"isbn\": \"0-553-21311-3\",\n",
    "        \"price\": 8.99,\n",
    "        \"editions\": [1991, 1996, 1998]\n",
    "    },\n",
    "    {\n",
    "        \"category\": \"fiction\",\n",
    "        \"author\": \"J. R. R. Tolkien\",\n",
    "        \"title\": \"The Lord of the Rings\",\n",
    "        \"isbn\": \"0-395-19395-8\",\n",
    "        \"price\": 22.99\n",
    "    },\n",
    "    {\n",
    "        \"category\": \"software\",\n",
    "        \"authors\": [\n",
    "            { \"author\": \"Thomas Linn\" },\n",
    "            { \"author\": \"Jane Mathews\" }\n",
    "        ],\n",
    "        \"title\": \"Snowflake for Beginners\",\n",
    "        \"price\": 12.49,\n",
    "        \"editions\": [1996]\n",
    "    }\n",
    "]).run(conn)\n",
    "t.run(conn)"
   ]
  },
  {
   "cell_type": "code",
   "execution_count": null,
   "metadata": {},
   "outputs": [],
   "source": [
    "t.count().run(conn)"
   ]
  },
  {
   "cell_type": "code",
   "execution_count": null,
   "metadata": {},
   "outputs": [],
   "source": [
    "t.group('category').count().run(conn)"
   ]
  },
  {
   "cell_type": "code",
   "execution_count": null,
   "metadata": {},
   "outputs": [],
   "source": [
    "t.filter(r.row['price'].gt(10)\n",
    "    ).pluck('title', 'price').run(conn)"
   ]
  },
  {
   "cell_type": "code",
   "execution_count": null,
   "metadata": {},
   "outputs": [],
   "source": [
    "t.filter(r.row['price'].gt(10)\n",
    "    ).update({ 'price': 50 }).run(conn)"
   ]
  },
  {
   "cell_type": "code",
   "execution_count": null,
   "metadata": {},
   "outputs": [],
   "source": [
    "t.run(conn)"
   ]
  },
  {
   "cell_type": "code",
   "execution_count": null,
   "metadata": {},
   "outputs": [],
   "source": [
    "# replace this with your actual ID\n",
    "id = \"8b96ba27-5d43-45fc-a933-c125f7565e6c\"\n",
    "t.get(id).run(conn)"
   ]
  },
  {
   "cell_type": "code",
   "execution_count": null,
   "metadata": {},
   "outputs": [],
   "source": [
    "t.filter(r.row['title'].eq(\"Snowflake for Beginners\")\n",
    "    ).replace({\n",
    "        \"id\": id,\n",
    "        \"category\": \"software\",\n",
    "        \"author\": \"Thomas Linn\",\n",
    "        \"title\": \"Snowflake for Beginners\",\n",
    "        \"price\": 12.49,\n",
    "        \"editions\": [1996]\n",
    "    }).run(conn)\n",
    "t.run(conn)"
   ]
  },
  {
   "cell_type": "code",
   "execution_count": null,
   "metadata": {},
   "outputs": [],
   "source": [
    "t.filter(r.row['price'].gt(10)\n",
    "    ).delete()"
   ]
  },
  {
   "cell_type": "code",
   "execution_count": null,
   "metadata": {},
   "outputs": [],
   "source": [
    "t.run(conn)"
   ]
  },
  {
   "cell_type": "code",
   "execution_count": null,
   "metadata": {},
   "outputs": [],
   "source": [
    "for change in r.db('store').table('books'\n",
    "    ).changes().run(conn):\n",
    "    print(change)"
   ]
  },
  {
   "cell_type": "code",
   "execution_count": null,
   "metadata": {},
   "outputs": [],
   "source": [
    "# insert in Data Explorer, in JavaScript\n",
    "r.db('store').table('books').insert([{\n",
    "    \"category\": \"fiction\",\n",
    "    \"author\": \"Evelyn Waugh\",\n",
    "    \"title\": \"Sword of Honour 2\",\n",
    "    \"price\": 12.99,\n",
    "    \"editions\": [1996, 1998]\n",
    "}])"
   ]
  },
  {
   "cell_type": "code",
   "execution_count": 2,
   "metadata": {},
   "outputs": [
    {
     "data": {
      "text/plain": [
       "{'config_changes': [{'new_val': None,\n",
       "   'old_val': {'id': 'ff91792d-81c9-4f17-a978-819d7456bef2',\n",
       "    'name': 'store'}}],\n",
       " 'dbs_dropped': 1,\n",
       " 'tables_dropped': 0}"
      ]
     },
     "execution_count": 2,
     "metadata": {},
     "output_type": "execute_result"
    }
   ],
   "source": [
    "from rethinkdb import r\n",
    "\n",
    "conn = r.connect('localhost', 28015)\n",
    "r.db('store').table_drop('books').run(conn)\n",
    "r.db_drop('store').run(conn)"
   ]
  }
 ],
 "metadata": {
  "kernelspec": {
   "display_name": "venv",
   "language": "python",
   "name": "python3"
  },
  "language_info": {
   "codemirror_mode": {
    "name": "ipython",
    "version": 3
   },
   "file_extension": ".py",
   "mimetype": "text/x-python",
   "name": "python",
   "nbconvert_exporter": "python",
   "pygments_lexer": "ipython3",
   "version": "3.9.6"
  }
 },
 "nbformat": 4,
 "nbformat_minor": 2
}
