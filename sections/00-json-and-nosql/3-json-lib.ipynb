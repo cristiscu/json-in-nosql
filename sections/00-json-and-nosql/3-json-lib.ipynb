{
 "cells": [
  {
   "cell_type": "code",
   "execution_count": null,
   "metadata": {},
   "outputs": [],
   "source": [
    "import json"
   ]
  },
  {
   "cell_type": "code",
   "execution_count": null,
   "metadata": {},
   "outputs": [],
   "source": [
    "with open(\"../../data/store.json\") as fin:\n",
    "    data = json.load(fin)\n",
    "data"
   ]
  },
  {
   "cell_type": "code",
   "execution_count": null,
   "metadata": {},
   "outputs": [],
   "source": [
    "print(data)"
   ]
  },
  {
   "cell_type": "code",
   "execution_count": null,
   "metadata": {},
   "outputs": [],
   "source": [
    "print(json.dumps(data))"
   ]
  },
  {
   "cell_type": "code",
   "execution_count": null,
   "metadata": {},
   "outputs": [],
   "source": [
    "print(json.dumps(data, indent=2))"
   ]
  },
  {
   "cell_type": "code",
   "execution_count": null,
   "metadata": {},
   "outputs": [],
   "source": [
    "s = \"\"\"\n",
    "{\n",
    "    \"store\": {\n",
    "        \"book\": [\n",
    "            {\n",
    "                \"category\": \"reference\",\n",
    "                \"author\": \"Nigel Rees\",\n",
    "                \"title\": \"Sayings of the Century\",\n",
    "                \"price\": 8.95,\n",
    "                \"editions\": [1993, 1995, 1998]\n",
    "            },\n",
    "            {\n",
    "                \"category\": \"fiction\",\n",
    "                \"author\": \"Evelyn Waugh\",\n",
    "                \"title\": \"Sword of Honour\",\n",
    "                \"price\": 12.99,\n",
    "                \"editions\": [1996, 1998]\n",
    "            },\n",
    "            {\n",
    "                \"category\": \"fiction\",\n",
    "                \"author\": \"Herman Melville\",\n",
    "                \"title\": \"Moby Dick\",\n",
    "                \"isbn\": \"0-553-21311-3\",\n",
    "                \"price\": 8.99,\n",
    "                \"editions\": [1991, 1996, 1998]\n",
    "            },\n",
    "            {\n",
    "                \"category\": \"fiction\",\n",
    "                \"author\": \"J. R. R. Tolkien\",\n",
    "                \"title\": \"The Lord of the Rings\",\n",
    "                \"isbn\": \"0-395-19395-8\",\n",
    "                \"price\": 22.99\n",
    "            },\n",
    "            {\n",
    "                \"category\": \"software\",\n",
    "                \"authors\": [\n",
    "                    { \"author\": \"Thomas Linn\" },\n",
    "                    { \"author\": \"Jane Mathews\" }\n",
    "                ],\n",
    "                \"title\": \"Snowflake for Beginners\",\n",
    "                \"price\": 12.49,\n",
    "                \"editions\": [1996]\n",
    "            }\n",
    "        ],\n",
    "        \"bicycle\": {\n",
    "            \"color\": \"red\",\n",
    "            \"price\": 19.95\n",
    "        }\n",
    "    }\n",
    "}\n",
    "\"\"\"\n",
    "\n",
    "data = json.loads(s)\n",
    "data"
   ]
  },
  {
   "cell_type": "code",
   "execution_count": null,
   "metadata": {},
   "outputs": [],
   "source": [
    "type(data[\"store\"]), type(data[\"store\"][\"book\"])"
   ]
  },
  {
   "cell_type": "code",
   "execution_count": null,
   "metadata": {},
   "outputs": [],
   "source": [
    "data[\"store\"][\"book\"][2][\"title\"]"
   ]
  }
 ],
 "metadata": {
  "kernelspec": {
   "display_name": "venv",
   "language": "python",
   "name": "python3"
  },
  "language_info": {
   "codemirror_mode": {
    "name": "ipython",
    "version": 3
   },
   "file_extension": ".py",
   "mimetype": "text/x-python",
   "name": "python",
   "nbconvert_exporter": "python",
   "pygments_lexer": "ipython3",
   "version": "3.9.6"
  }
 },
 "nbformat": 4,
 "nbformat_minor": 2
}
